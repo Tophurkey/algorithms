{
 "cells": [
  {
   "cell_type": "markdown",
   "metadata": {},
   "source": [
    "Binary search can help locate values faster than a brute force by using a pattern to split out the data and search through smaller and smaller chunks to get the answer quicker. This isn't the best search available but it shows how a simple pattern can be used to speed up search from brute force.\n",
    "\n",
    "A big limiting factor here is that the search is dependent on the array being pre-sorted. This sorting itself is already a big time use that better search algo's should be able to get around."
   ]
  },
  {
   "cell_type": "code",
   "execution_count": 8,
   "metadata": {},
   "outputs": [],
   "source": [
    "# Create an array of 100,000 integers from 0 to 99,999.\n",
    "arr = list(range(100000))\n",
    "\n",
    "# Make sure the array is sorted.\n",
    "sorted_arr = sorted(arr)\n",
    "\n",
    "target_list = [\n",
    "    0,\n",
    "    2000,\n",
    "    50000,\n",
    "    70000,\n",
    "    99999,\n",
    "    100000,\n",
    "]  # This test binary search looking for values at various positions, including the start, middle, end, and out of bounds."
   ]
  },
  {
   "cell_type": "code",
   "execution_count": 9,
   "metadata": {},
   "outputs": [],
   "source": [
    "def brute_force_search(arr, target):\n",
    "    \"\"\"\n",
    "    Perform a brute force search on an array to find the index of the target value.\n",
    "    :param arr: List of integers\n",
    "    :param target: Integer value to search for\n",
    "    :return: Index of target in arr if found, otherwise -1\n",
    "    \"\"\"\n",
    "    for i in range(len(arr)):\n",
    "        if arr[i] == target:\n",
    "            return i\n",
    "    return -1"
   ]
  },
  {
   "cell_type": "code",
   "execution_count": 10,
   "metadata": {},
   "outputs": [],
   "source": [
    "def binary_search(arr, target):\n",
    "    \"\"\"\n",
    "    Perform binary search on a sorted array to find the index of the target value.\n",
    "    :param arr: List of sorted integers\n",
    "    :param target: Integer value to search for\n",
    "    :return: Index of target in arr if found, otherwise -1\n",
    "    \"\"\"\n",
    "    left, right = 0, len(arr) - 1\n",
    "\n",
    "    while left <= right:\n",
    "        mid = (left + right) // 2\n",
    "\n",
    "        if arr[mid] == target:\n",
    "            return mid\n",
    "        elif arr[mid] < target:\n",
    "            left = mid + 1\n",
    "        else:\n",
    "            right = mid - 1\n",
    "\n",
    "    return -1"
   ]
  },
  {
   "cell_type": "code",
   "execution_count": 11,
   "metadata": {},
   "outputs": [
    {
     "name": "stdout",
     "output_type": "stream",
     "text": [
      "Target: 0\n",
      "Brute Force Index: 0, Time: 0.000000000000000 seconds\n",
      "Binary Search Index: 0, Time: 0.000000000000000 seconds\n",
      "----------------------------------------\n",
      "Target: 2000\n",
      "Brute Force Index: 2000, Time: 0.000000000000000 seconds\n",
      "Binary Search Index: 2000, Time: 0.000000000000000 seconds\n",
      "----------------------------------------\n",
      "Target: 50000\n",
      "Brute Force Index: 50000, Time: 0.001000881195068 seconds\n",
      "Binary Search Index: 50000, Time: 0.000000000000000 seconds\n",
      "----------------------------------------\n",
      "Target: 70000\n",
      "Brute Force Index: 70000, Time: 0.001996994018555 seconds\n",
      "Binary Search Index: 70000, Time: 0.000000000000000 seconds\n",
      "----------------------------------------\n",
      "Target: 99999\n",
      "Brute Force Index: 99999, Time: 0.003050327301025 seconds\n",
      "Binary Search Index: 99999, Time: 0.000000000000000 seconds\n",
      "----------------------------------------\n",
      "Target: 100000\n",
      "Brute Force Index: -1, Time: 0.002469778060913 seconds\n",
      "Binary Search Index: -1, Time: 0.000000000000000 seconds\n",
      "----------------------------------------\n",
      "\n",
      "Total Brute Force Time: 0.008517980575562 seconds\n",
      "Total Binary Search Time: 0.000000000000000 seconds\n",
      "Average Brute Force Time: 0.001419663429260 seconds\n",
      "Average Binary Search Time: 0.000000000000000 seconds\n"
     ]
    }
   ],
   "source": [
    "# Test each solution and display the time taken for each search and then display the sum and average time taken for each search.\n",
    "import time\n",
    "\n",
    "\n",
    "def test_searches(sorted_arr, target_list):\n",
    "    testing_results = {}\n",
    "    for target in target_list:\n",
    "        # Brute force search\n",
    "        start_time = time.time()\n",
    "        brute_force_index = brute_force_search(sorted_arr, target)\n",
    "        brute_force_time = time.time() - start_time\n",
    "\n",
    "        # Binary search\n",
    "        start_time = time.time()\n",
    "        binary_search_index = binary_search(sorted_arr, target)\n",
    "        binary_search_time = time.time() - start_time\n",
    "\n",
    "        print(f\"Target: {target}\")\n",
    "        print(\n",
    "            f\"Brute Force Index: {brute_force_index}, Time: {brute_force_time:.15f} seconds\"\n",
    "        )\n",
    "        print(\n",
    "            f\"Binary Search Index: {binary_search_index}, Time: {binary_search_time:.15f} seconds\"\n",
    "        )\n",
    "        print(\"-\" * 40)\n",
    "        testing_results[target] = {\n",
    "            \"brute_force_time\": brute_force_time,\n",
    "            \"binary_search_time\": binary_search_time,\n",
    "        }\n",
    "\n",
    "    # Calculate total and average times\n",
    "    total_brute_force_time = sum(\n",
    "        result[\"brute_force_time\"] for result in testing_results.values()\n",
    "    )\n",
    "    total_binary_search_time = sum(\n",
    "        result[\"binary_search_time\"] for result in testing_results.values()\n",
    "    )\n",
    "    average_brute_force_time = total_brute_force_time / len(target_list)\n",
    "    average_binary_search_time = total_binary_search_time / len(target_list)\n",
    "    print(f\"\\nTotal Brute Force Time: {total_brute_force_time:.15f} seconds\")\n",
    "    print(f\"Total Binary Search Time: {total_binary_search_time:.15f} seconds\")\n",
    "    print(f\"Average Brute Force Time: {average_brute_force_time:.15f} seconds\")\n",
    "    print(f\"Average Binary Search Time: {average_binary_search_time:.15f} seconds\")\n",
    "\n",
    "\n",
    "# Run the tests\n",
    "test_searches(sorted_arr, target_list)"
   ]
  },
  {
   "cell_type": "markdown",
   "metadata": {},
   "source": [
    "We see that as the value is found further in the list of values that the total time to find the solution grows for the bruteforce but no growth for the binary. This can be observed by looking at the time and space complexity of each solution:\n",
    "\n",
    "Brute Force: \n",
    "- Time Complexity: O(N)\n",
    "- Space Complexity: O(1)\n",
    "\n",
    "Binary Search:\n",
    "- Time Complexity: O(log(N))\n",
    "- Space Complexity: O(1)"
   ]
  },
  {
   "cell_type": "markdown",
   "metadata": {},
   "source": []
  }
 ],
 "metadata": {
  "kernelspec": {
   "display_name": "Python 3",
   "language": "python",
   "name": "python3"
  },
  "language_info": {
   "codemirror_mode": {
    "name": "ipython",
    "version": 3
   },
   "file_extension": ".py",
   "mimetype": "text/x-python",
   "name": "python",
   "nbconvert_exporter": "python",
   "pygments_lexer": "ipython3",
   "version": "3.10.2"
  }
 },
 "nbformat": 4,
 "nbformat_minor": 2
}
